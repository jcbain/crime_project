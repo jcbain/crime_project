{
 "cells": [
  {
   "cell_type": "code",
   "execution_count": 1,
   "metadata": {
    "collapsed": true
   },
   "outputs": [],
   "source": [
    "import pandas as pd\n",
    "import numpy as np\n",
    "import re"
   ]
  },
  {
   "cell_type": "code",
   "execution_count": 25,
   "metadata": {
    "collapsed": false
   },
   "outputs": [],
   "source": [
    "head_col = ['offense','total_victims','male','female','unknown']\n",
    "file = pd.read_excel('orig_data/victims_sex_by_offense_category_2014.xls',skiprows=list(range(0,7)),header=None)"
   ]
  },
  {
   "cell_type": "code",
   "execution_count": 58,
   "metadata": {
    "collapsed": false
   },
   "outputs": [
    {
     "data": {
      "text/html": [
       "<div>\n",
       "<table border=\"1\" class=\"dataframe\">\n",
       "  <thead>\n",
       "    <tr style=\"text-align: right;\">\n",
       "      <th></th>\n",
       "      <th>offense</th>\n",
       "      <th>total_victims</th>\n",
       "      <th>male</th>\n",
       "      <th>female</th>\n",
       "      <th>unknown</th>\n",
       "    </tr>\n",
       "  </thead>\n",
       "  <tbody>\n",
       "    <tr>\n",
       "      <th>0</th>\n",
       "      <td>Assault Offenses</td>\n",
       "      <td>1165909</td>\n",
       "      <td>500233</td>\n",
       "      <td>657421</td>\n",
       "      <td>8255</td>\n",
       "    </tr>\n",
       "    <tr>\n",
       "      <th>1</th>\n",
       "      <td>Homicide Offenses</td>\n",
       "      <td>3854</td>\n",
       "      <td>2872</td>\n",
       "      <td>955</td>\n",
       "      <td>27</td>\n",
       "    </tr>\n",
       "    <tr>\n",
       "      <th>2</th>\n",
       "      <td>Human Trafficking Offenses</td>\n",
       "      <td>57</td>\n",
       "      <td>1</td>\n",
       "      <td>55</td>\n",
       "      <td>1</td>\n",
       "    </tr>\n",
       "    <tr>\n",
       "      <th>3</th>\n",
       "      <td>Kidnapping/Abduction</td>\n",
       "      <td>15552</td>\n",
       "      <td>3653</td>\n",
       "      <td>11849</td>\n",
       "      <td>50</td>\n",
       "    </tr>\n",
       "    <tr>\n",
       "      <th>4</th>\n",
       "      <td>Sex Offenses</td>\n",
       "      <td>70928</td>\n",
       "      <td>10821</td>\n",
       "      <td>59875</td>\n",
       "      <td>232</td>\n",
       "    </tr>\n",
       "    <tr>\n",
       "      <th>5</th>\n",
       "      <td>Sex Offenses, Nonforcible</td>\n",
       "      <td>5484</td>\n",
       "      <td>590</td>\n",
       "      <td>4888</td>\n",
       "      <td>6</td>\n",
       "    </tr>\n",
       "    <tr>\n",
       "      <th>6</th>\n",
       "      <td>Crimes Against Property</td>\n",
       "      <td>2770816</td>\n",
       "      <td>1421947</td>\n",
       "      <td>1323445</td>\n",
       "      <td>25424</td>\n",
       "    </tr>\n",
       "    <tr>\n",
       "      <th>7</th>\n",
       "      <td>Arson</td>\n",
       "      <td>10614</td>\n",
       "      <td>5549</td>\n",
       "      <td>4369</td>\n",
       "      <td>696</td>\n",
       "    </tr>\n",
       "    <tr>\n",
       "      <th>8</th>\n",
       "      <td>Bribery</td>\n",
       "      <td>222</td>\n",
       "      <td>150</td>\n",
       "      <td>67</td>\n",
       "      <td>5</td>\n",
       "    </tr>\n",
       "    <tr>\n",
       "      <th>9</th>\n",
       "      <td>Burglary/Breaking &amp; Entering</td>\n",
       "      <td>447058</td>\n",
       "      <td>237120</td>\n",
       "      <td>206557</td>\n",
       "      <td>3381</td>\n",
       "    </tr>\n",
       "    <tr>\n",
       "      <th>10</th>\n",
       "      <td>Counterfeiting/Forgery</td>\n",
       "      <td>36126</td>\n",
       "      <td>18052</td>\n",
       "      <td>17113</td>\n",
       "      <td>961</td>\n",
       "    </tr>\n",
       "    <tr>\n",
       "      <th>11</th>\n",
       "      <td>Destruction/Damage/Vandalism</td>\n",
       "      <td>579916</td>\n",
       "      <td>285596</td>\n",
       "      <td>289513</td>\n",
       "      <td>4807</td>\n",
       "    </tr>\n",
       "    <tr>\n",
       "      <th>12</th>\n",
       "      <td>Embezzlement</td>\n",
       "      <td>3864</td>\n",
       "      <td>2183</td>\n",
       "      <td>1632</td>\n",
       "      <td>49</td>\n",
       "    </tr>\n",
       "    <tr>\n",
       "      <th>13</th>\n",
       "      <td>Extortion/Blackmail</td>\n",
       "      <td>1745</td>\n",
       "      <td>932</td>\n",
       "      <td>806</td>\n",
       "      <td>7</td>\n",
       "    </tr>\n",
       "    <tr>\n",
       "      <th>14</th>\n",
       "      <td>Fraud Offenses</td>\n",
       "      <td>247032</td>\n",
       "      <td>110249</td>\n",
       "      <td>134129</td>\n",
       "      <td>2654</td>\n",
       "    </tr>\n",
       "    <tr>\n",
       "      <th>15</th>\n",
       "      <td>Larceny/Theft Offenses</td>\n",
       "      <td>1175569</td>\n",
       "      <td>600114</td>\n",
       "      <td>565835</td>\n",
       "      <td>9620</td>\n",
       "    </tr>\n",
       "    <tr>\n",
       "      <th>16</th>\n",
       "      <td>Motor Vehicle Theft</td>\n",
       "      <td>162068</td>\n",
       "      <td>95759</td>\n",
       "      <td>65098</td>\n",
       "      <td>1211</td>\n",
       "    </tr>\n",
       "    <tr>\n",
       "      <th>17</th>\n",
       "      <td>Robbery</td>\n",
       "      <td>74862</td>\n",
       "      <td>48932</td>\n",
       "      <td>25749</td>\n",
       "      <td>181</td>\n",
       "    </tr>\n",
       "    <tr>\n",
       "      <th>18</th>\n",
       "      <td>Stolen Property Offenses</td>\n",
       "      <td>31740</td>\n",
       "      <td>17311</td>\n",
       "      <td>12577</td>\n",
       "      <td>1852</td>\n",
       "    </tr>\n",
       "    <tr>\n",
       "      <th>19</th>\n",
       "      <td>1This table includes only data for individual ...</td>\n",
       "      <td>NaN</td>\n",
       "      <td>NaN</td>\n",
       "      <td>NaN</td>\n",
       "      <td>NaN</td>\n",
       "    </tr>\n",
       "  </tbody>\n",
       "</table>\n",
       "</div>"
      ],
      "text/plain": [
       "                                              offense  total_victims     male  \\\n",
       "0                                    Assault Offenses        1165909   500233   \n",
       "1                                   Homicide Offenses           3854     2872   \n",
       "2                          Human Trafficking Offenses             57        1   \n",
       "3                                Kidnapping/Abduction          15552     3653   \n",
       "4                                        Sex Offenses          70928    10821   \n",
       "5                           Sex Offenses, Nonforcible           5484      590   \n",
       "6                             Crimes Against Property        2770816  1421947   \n",
       "7                                               Arson          10614     5549   \n",
       "8                                             Bribery            222      150   \n",
       "9                        Burglary/Breaking & Entering         447058   237120   \n",
       "10                             Counterfeiting/Forgery          36126    18052   \n",
       "11                       Destruction/Damage/Vandalism         579916   285596   \n",
       "12                                       Embezzlement           3864     2183   \n",
       "13                                Extortion/Blackmail           1745      932   \n",
       "14                                     Fraud Offenses         247032   110249   \n",
       "15                             Larceny/Theft Offenses        1175569   600114   \n",
       "16                                Motor Vehicle Theft         162068    95759   \n",
       "17                                            Robbery          74862    48932   \n",
       "18                           Stolen Property Offenses          31740    17311   \n",
       "19  1This table includes only data for individual ...            NaN      NaN   \n",
       "\n",
       "     female  unknown  \n",
       "0    657421     8255  \n",
       "1       955       27  \n",
       "2        55        1  \n",
       "3     11849       50  \n",
       "4     59875      232  \n",
       "5      4888        6  \n",
       "6   1323445    25424  \n",
       "7      4369      696  \n",
       "8        67        5  \n",
       "9    206557     3381  \n",
       "10    17113      961  \n",
       "11   289513     4807  \n",
       "12     1632       49  \n",
       "13      806        7  \n",
       "14   134129     2654  \n",
       "15   565835     9620  \n",
       "16    65098     1211  \n",
       "17    25749      181  \n",
       "18    12577     1852  \n",
       "19      NaN      NaN  "
      ]
     },
     "execution_count": 58,
     "metadata": {},
     "output_type": "execute_result"
    }
   ],
   "source": [
    "file\n",
    "# I have to add this to the whole function of creating files"
   ]
  },
  {
   "cell_type": "code",
   "execution_count": 156,
   "metadata": {
    "collapsed": false
   },
   "outputs": [],
   "source": [
    "def get_headers(): # I need to change this to read in different files as a parameter that I can just call on a file\n",
    "    head_col = []\n",
    "    \n",
    "    file = pd.read_excel('orig_data/victims_age_by_offense_category_2014.xls',header=None)\n",
    "    head_col.extend(file.loc[3][0:2])\n",
    "    file2 = pd.read_excel('orig_data/victims_age_by_offense_category_2014.xls',header=None,skiprows=list(range(0,4)))\n",
    "    head_col.extend(file2.loc[0][2:])\n",
    "    \n",
    "    x = [y.replace('\\n', '_') for y in head_col]\n",
    "    z = [y.replace(' ', '_') for y in x ]\n",
    "    header_col = [x.lower() for x in z]\n",
    "    return header_col\n",
    "    \n",
    "\n",
    "    "
   ]
  },
  {
   "cell_type": "code",
   "execution_count": 157,
   "metadata": {
    "collapsed": false
   },
   "outputs": [],
   "source": [
    "headers =get_headers()\n",
    "headers"
   ]
  },
  {
   "cell_type": "code",
   "execution_count": 159,
   "metadata": {
    "collapsed": false
   },
   "outputs": [],
   "source": [
    "# just proof that it works for the victim files\n",
    "def get_headers():\n",
    "    head_col = []\n",
    "    \n",
    "    file = pd.read_excel('orig_data/victims_sex_by_offense_category_2014.xls',header=None)\n",
    "    head_col.extend(file.loc[3][0:2])\n",
    "    file2 = pd.read_excel('orig_data/victims_sex_by_offense_category_2014.xls',header=None,skiprows=list(range(0,4)))\n",
    "    head_col.extend(file2.loc[0][2:])\n",
    "    \n",
    "    x = [y.replace('\\n', '_') for y in head_col]\n",
    "    z = [y.replace(' ', '_') for y in x ]\n",
    "    header_col = [x.lower() for x in z]\n",
    "    return header_col\n"
   ]
  },
  {
   "cell_type": "code",
   "execution_count": 161,
   "metadata": {
    "collapsed": false
   },
   "outputs": [
    {
     "data": {
      "text/plain": [
       "['offense_category', 'total_victims1', 'male', 'female', 'unknown']"
      ]
     },
     "execution_count": 161,
     "metadata": {},
     "output_type": "execute_result"
    }
   ],
   "source": [
    "headers = get_headers()\n",
    "headers"
   ]
  },
  {
   "cell_type": "code",
   "execution_count": null,
   "metadata": {
    "collapsed": true
   },
   "outputs": [],
   "source": []
  }
 ],
 "metadata": {
  "kernelspec": {
   "display_name": "Python 3",
   "language": "python",
   "name": "python3"
  },
  "language_info": {
   "codemirror_mode": {
    "name": "ipython",
    "version": 3
   },
   "file_extension": ".py",
   "mimetype": "text/x-python",
   "name": "python",
   "nbconvert_exporter": "python",
   "pygments_lexer": "ipython3",
   "version": "3.5.1"
  }
 },
 "nbformat": 4,
 "nbformat_minor": 0
}
